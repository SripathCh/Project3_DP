{
 "cells": [
  {
   "cell_type": "code",
   "execution_count": 43,
   "metadata": {},
   "outputs": [],
   "source": [
    "# importing required packages\n",
    "\n",
    "# time for calculating running times of the classifiers\n",
    "import time\n",
    "\n",
    "# numpy for handling arrays\n",
    "import numpy as np\n",
    "\n",
    "# pandas for working with huge data\n",
    "import pandas as pd\n",
    "\n",
    "# SMOTE for over sampling\n",
    "from imblearn.over_sampling import SMOTE\n",
    "\n",
    "# DecisionTreeClassifier for classification using decision tree\n",
    "from sklearn.tree import DecisionTreeClassifier\n",
    "\n",
    "# test_train_split for splitting the data\n",
    "from sklearn.model_selection import train_test_split \n",
    "\n",
    "# Perceptron for classification using neural network unit\n",
    "from sklearn.linear_model import Perceptron\n",
    "\n",
    "# PCA for dimensionality reduction\n",
    "from sklearn.decomposition import PCA"
   ]
  },
  {
   "cell_type": "code",
   "execution_count": 44,
   "metadata": {},
   "outputs": [],
   "source": [
    "# setting the number of features as 100000 as we have those many number of features in the given traing dataset\n",
    "num_features = 100000\n",
    "\n",
    "# function to plot the data at the give feature value, making a mapping table or matrix we can say\n",
    "def to_tabular_data(file_passed):\n",
    "\n",
    "    # creating a data frame with columns with range 100000\n",
    "    mapping_table = pd.DataFrame(columns=range(num_features))\n",
    "    \n",
    "    # for loop to plot the values at given feature index\n",
    "    for i in range(len(file_passed)):\n",
    "\n",
    "        # forming an array for each line in file_passed\n",
    "        line_array = np.fromstring(file_passed[i], dtype=int, sep=' ')\n",
    "\n",
    "        # forming a table with values 0 for 100000 columns\n",
    "        feature_matrix = [0] * num_features\n",
    "        \n",
    "        # plotting the value at the index of each feature value\n",
    "        for attribute in line_array:\n",
    "            feature_matrix[attribute-1] = 1\n",
    "        mapping_table.loc[i] = feature_matrix\n",
    "            \n",
    "    return mapping_table "
   ]
  },
  {
   "cell_type": "code",
   "execution_count": 45,
   "metadata": {},
   "outputs": [],
   "source": [
    "# function to get the training data labels\n",
    "def get_train_labels(file_passed):\n",
    "\n",
    "    #creating an empty list called labels\n",
    "    labels=[]\n",
    "\n",
    "    # using file handle object to open text file containg training data and opening it in read mode\n",
    "    f1 = open(file_passed, \"r\")\n",
    "\n",
    "    # reading the lines in the text file using readlines() method\n",
    "    gathered_data = f1.readlines()\n",
    "    \n",
    "    # appening the first value of each and evry line in all lines read above as those are the labels\n",
    "    for line in gathered_data:\n",
    "        labels.append(line[0])\n",
    "        \n",
    "    # after done with using the file we close the file handle\n",
    "    f1.close()\n",
    "    return labels"
   ]
  },
  {
   "cell_type": "code",
   "execution_count": 46,
   "metadata": {},
   "outputs": [],
   "source": [
    "# function to get the training data features\n",
    "def get_train_features(file_passed):\n",
    "\n",
    "    #creating an empty list called features to store feature values\n",
    "    features=[]\n",
    "\n",
    "    # using file handle object to open text file containg training data and opening it in read mode\n",
    "    f2 = open(file_passed, \"r\")\n",
    "\n",
    "    # reading the lines in the text file using readlines() method\n",
    "    gathered_data = f2.readlines()\n",
    "    \n",
    "    for line in gathered_data:\n",
    "\n",
    "        # for each and evry line in all lines in text file we clear/replace the '0\\t', '1\\t' and '\\n' as those are labels and escape characters to have only feature data in file\n",
    "        line=line.replace(\"0\\t\",\"\")\n",
    "        line=line.replace(\"1\\t\",\"\")\n",
    "        line=line.replace(\"\\n\",\"\")\n",
    "        features.append(line)\n",
    "\n",
    "    # closing the file handle after we are done\n",
    "    f2.close()\n",
    "    \n",
    "    # calling the to_tabular_data function to map the feature values\n",
    "    matrix_feature_data = to_tabular_data(features)\n",
    "    return matrix_feature_data"
   ]
  },
  {
   "cell_type": "code",
   "execution_count": 47,
   "metadata": {},
   "outputs": [],
   "source": [
    "# function to get test features, this test data set has no class labels\n",
    "def get_test_features(file_passed):\n",
    "\n",
    "    #creating an empty list called features to store feature values\n",
    "    features=[]\n",
    "\n",
    "    # using file handle object to open text file containg training data and opening it in read mode\n",
    "    f2 = open(file_passed, \"r\")\n",
    "\n",
    "    # reading the lines in the text file using readlines() method\n",
    "    gathered_data = f2.readlines()\n",
    "\n",
    "    for line in gathered_data:\n",
    "\n",
    "        # for each and evry line in all lines in text file we clear/replace the '\\n' as those are escape characters to have only feature data in file\n",
    "        line=line.replace(\"\\n\",\"\")\n",
    "        features.append(line)\n",
    "\n",
    "    # closing the file handle after we are done\n",
    "    f2.close()\n",
    "    \n",
    "    # calling the to_tabular_data function to map the feature values\n",
    "    matrix_feature_data = to_tabular_data(features)\n",
    "    return matrix_feature_data"
   ]
  },
  {
   "cell_type": "code",
   "execution_count": 48,
   "metadata": {},
   "outputs": [],
   "source": [
    "# function to perform dimensionality reduction on the training data and test data\n",
    "def perform_pca_on_data(x_train, x_test, test_feat_passed, no_of_components):\n",
    "\n",
    "    # creating the TruncatedSVD object called dimension_reduction\n",
    "    dimension_reduction = PCA(n_components = no_of_components)\n",
    "\n",
    "    # using the above created object to perform fit_transform on the X_train data\n",
    "    red_x_train_data = dimension_reduction.fit_transform(x_train)\n",
    "\n",
    "    # using the above created object to perform transform on the X_test data\n",
    "    red_x_test_data = dimension_reduction.transform(x_test)\n",
    "\n",
    "    # using the above created object to perform transform on the testing dataset feature data\n",
    "    red_test_data = dimension_reduction.transform(test_feat_passed)\n",
    "    \n",
    "    # returning the dimensionality reduced variables\n",
    "    return red_x_train_data, red_x_test_data, red_test_data"
   ]
  },
  {
   "cell_type": "code",
   "execution_count": 49,
   "metadata": {},
   "outputs": [],
   "source": [
    "# storing the file training dataset filepath into a variable\n",
    "train_filepath = \"train.txt\"\n",
    "\n",
    "# storing the file testing dataset filepath into a variable\n",
    "test_filepath = \"test.txt\"\n",
    "\n",
    "# function to get the labels and converting it into numpy array\n",
    "train_lab = np.asarray(get_train_labels(train_filepath))\n",
    "\n",
    "# function to get the training features\n",
    "train_feat = get_train_features(train_filepath)\n",
    "\n",
    "# function to get the testing features\n",
    "test_feat = get_test_features(test_filepath)\n",
    "\n",
    "# splitting the test data after cleaning, took a 80/20 split ratio here\n",
    "X_train, X_test, y_train, y_test = train_test_split(train_feat, train_lab, test_size=0.2, random_state=42)\n",
    "\n"
   ]
  },
  {
   "cell_type": "code",
   "execution_count": 50,
   "metadata": {},
   "outputs": [],
   "source": [
    "# calling a function to reduce the dimensionality of the traing data into values of 500 for quick execution\n",
    "reduced_x_train, reduced_x_test, reduced_test_ft = perform_pca_on_data(X_train, X_test, test_feat, 500)"
   ]
  },
  {
   "cell_type": "code",
   "execution_count": 51,
   "metadata": {},
   "outputs": [],
   "source": [
    "# SMOTE is most common method used to oversample the data when we get imbalanced data\n",
    "# initializing a sampling object\n",
    "oversampling = SMOTE()\n",
    "\n",
    "# using the sampling object to re-sample the data which we get after dimensionality reduction\n",
    "oversampled_train_features, oversampled_train_labels = oversampling.fit_resample(reduced_x_train, y_train)\n"
   ]
  },
  {
   "cell_type": "code",
   "execution_count": 52,
   "metadata": {},
   "outputs": [
    {
     "name": "stdout",
     "output_type": "stream",
     "text": [
      "\n",
      " Neural network (perceptron) training time: 0.02 s\n",
      "\n",
      " Neural network (perceptron) predicting time: 0.003 s\n",
      "\n",
      " Decision tree training time: 0.461 s\n",
      "\n",
      " Decision tree predicting time: 0.001 s\n"
     ]
    }
   ],
   "source": [
    "# Only for training data\n",
    "# testing two classifiers to experiment on them\n",
    "# 1. Neural Network (Perceptron)\n",
    "# 2. Decision Tree Classifier\n",
    "\n",
    "# creating a perceptron object, it is a neural network unit helps to classify data\n",
    "n_network = Perceptron()\n",
    "\n",
    "# initializing a time object\n",
    "s1= time.time()\n",
    "\n",
    "# calling fit method using the classifier object and calculating time for training\n",
    "n_network.fit(oversampled_train_features, oversampled_train_labels)\n",
    "e1 = time.time()\n",
    "print(\"\\n Neural network (perceptron) training time:\", round(e1-s1, 3), \"s\")\n",
    "\n",
    "# creating empty list to store all the predicted values\n",
    "n_network_preds_train = []\n",
    "\n",
    "# initializing a time object\n",
    "s2 = time.time()\n",
    "\n",
    "# calling the predict function and storing the values in the list created above\n",
    "n_network_preds_train = n_network.predict(reduced_x_test)\n",
    "e2 = time.time()\n",
    "print(\"\\n Neural network (perceptron) predicting time:\", round(e2-s2, 3), \"s\")\n",
    "\n",
    "\n",
    "# creating a decision tree object, it is a decision tree classifier unit helps to classify data\n",
    "dtclf = DecisionTreeClassifier()\n",
    "\n",
    "# initializing a time object\n",
    "s3=time.time()\n",
    "\n",
    "# calling fit method using the classifier object\n",
    "dtclf.fit(oversampled_train_features, oversampled_train_labels)\n",
    "e3=time.time()\n",
    "print(\"\\n Decision tree training time:\", round(e3-s3, 3), \"s\")\n",
    "\n",
    "# creating empty list to store all the predicted values\n",
    "dtclf_preds_train = []\n",
    "\n",
    "# initializing a time object\n",
    "s4=time.time()\n",
    "\n",
    "# calling the predict function and storing the values in the list created above\n",
    "dtclf_preds_train = dtclf.predict(reduced_x_test)\n",
    "e4=time.time()\n",
    "print(\"\\n Decision tree predicting time:\", round(e4-s4, 3), \"s\")"
   ]
  },
  {
   "cell_type": "code",
   "execution_count": 53,
   "metadata": {},
   "outputs": [
    {
     "name": "stdout",
     "output_type": "stream",
     "text": [
      "\tPerceptron (Neural Network):\n",
      "\n",
      "              precision    recall  f1-score   support\n",
      "\n",
      "     class 0       1.00      0.94      0.97       156\n",
      "     class 1       0.29      1.00      0.44         4\n",
      "\n",
      "    accuracy                           0.94       160\n",
      "   macro avg       0.64      0.97      0.71       160\n",
      "weighted avg       0.98      0.94      0.95       160\n",
      "\n",
      "\tDecision Tree:\n",
      "\n",
      "              precision    recall  f1-score   support\n",
      "\n",
      "     class 0       0.96      0.97      0.97       144\n",
      "     class 1       0.71      0.62      0.67        16\n",
      "\n",
      "    accuracy                           0.94       160\n",
      "   macro avg       0.84      0.80      0.82       160\n",
      "weighted avg       0.93      0.94      0.94       160\n",
      "\n"
     ]
    }
   ],
   "source": [
    "# importing classification_report from sklearn to get all F1-score, recall-values and precision values\n",
    "from sklearn.metrics import classification_report\n",
    "\n",
    "# naming the class labels as class 0 and class 1 for printing in classification report\n",
    "label_names = ['class 0', 'class 1']\n",
    "\n",
    "# printing classification report for Neural Network\n",
    "print(\"\\tPerceptron (Neural Network):\\n\")\n",
    "print(classification_report(n_network_preds_train,y_test, target_names=label_names))\n",
    "\n",
    "# printing classification report for Decision tree\n",
    "print(\"\\tDecision Tree:\\n\")\n",
    "print(classification_report(dtclf_preds_train,y_test, target_names=label_names))\n"
   ]
  },
  {
   "cell_type": "code",
   "execution_count": 54,
   "metadata": {},
   "outputs": [
    {
     "name": "stdout",
     "output_type": "stream",
     "text": [
      "\n",
      " Neural network (Perceptron) test data prediction time: 0.002 s\n",
      "\n",
      " Decision tree test data prediction time: 0.001 s\n"
     ]
    }
   ],
   "source": [
    "# Only for testing data\n",
    "# testing two classifiers to experiment on them\n",
    "# 1. Neural Network (Perceptron)\n",
    "# 2. Decision Tree Classifier\n",
    "\n",
    "# creating empty list store predictions given by perceptron (Neural Network) for test data\n",
    "n_network_preds_test = []\n",
    "\n",
    "s5=time.time()\n",
    "# predicting values\n",
    "n_network_preds_test = n_network.predict(reduced_test_ft)\n",
    "e5=time.time()\n",
    "print(\"\\n Neural network (Perceptron) test data prediction time:\", round(e5-s5, 3), \"s\")\n",
    "\n",
    "# creating empty list store predictions given by Decision tree for test data\n",
    "dtclf_preds_test = []\n",
    "\n",
    "s6=time.time()\n",
    "# predicting values\n",
    "dtclf_preds_test = dtclf.predict(reduced_test_ft)\n",
    "e6=time.time()\n",
    "print(\"\\n Decision tree test data prediction time:\", round(e6-s6, 3), \"s\")"
   ]
  },
  {
   "cell_type": "code",
   "execution_count": 55,
   "metadata": {},
   "outputs": [],
   "source": [
    "# code to print all the predictions obtained above into a text file\n",
    "\n",
    "# opening a file using file object to print predictions made by Neural Network\n",
    "file = open(\"neural_network.txt\", \"w\")\n",
    "\n",
    "# using for loop to loop through prediction values\n",
    "for pred in n_network_preds_test:\n",
    "    file.write(str(pred)+\"\\n\")\n",
    "\n",
    "# closing file object after pritning\n",
    "file.close()\n",
    "\n",
    "# opening a file using file object to print predictions made by Decision trees\n",
    "file = open(\"decision_tree.txt\", \"w\")\n",
    "\n",
    "# using for loop to loop through prediction values\n",
    "for pred in dtclf_preds_test:\n",
    "    file.write(str(pred)+\"\\n\")\n",
    "\n",
    "# closing file object after pritning\n",
    "file.close()"
   ]
  },
  {
   "cell_type": "code",
   "execution_count": 56,
   "metadata": {},
   "outputs": [
    {
     "data": {
      "text/plain": [
       "([0.0, 0.0, 0.0, 0.0, 0.0, 0.0, 0.0, 0.0, 0.0, 0.0],\n",
       " [0.0875,\n",
       "  0.08125,\n",
       "  0.05625,\n",
       "  0.0625,\n",
       "  0.05625,\n",
       "  0.0625,\n",
       "  0.0625,\n",
       "  0.0625,\n",
       "  0.05625,\n",
       "  0.0625])"
      ]
     },
     "execution_count": 56,
     "metadata": {},
     "output_type": "execute_result"
    },
    {
     "data": {
      "image/png": "[encoded data removed]",
      "text/plain": [
       "<Figure size 640x480 with 1 Axes>"
      ]
     },
     "metadata": {},
     "output_type": "display_data"
    }
   ],
   "source": [
    "# importing plot learning curves\n",
    "from mlxtend.plotting import plot_learning_curves\n",
    " \n",
    "# Plot the learning curves for neural network (perceptron)\n",
    "plot_learning_curves(oversampled_train_features, oversampled_train_labels, reduced_x_test, y_test, n_network)"
   ]
  },
  {
   "cell_type": "code",
   "execution_count": 57,
   "metadata": {},
   "outputs": [
    {
     "data": {
      "text/plain": [
       "([0.0, 0.0, 0.0, 0.0, 0.0, 0.0, 0.0, 0.0, 0.0, 0.0],\n",
       " [0.08125,\n",
       "  0.0875,\n",
       "  0.075,\n",
       "  0.0625,\n",
       "  0.0625,\n",
       "  0.0625,\n",
       "  0.05625,\n",
       "  0.05625,\n",
       "  0.05,\n",
       "  0.05625])"
      ]
     },
     "execution_count": 57,
     "metadata": {},
     "output_type": "execute_result"
    },
    {
     "data": {
      "image/png": "[encoded data removed]",
      "text/plain": [
       "<Figure size 640x480 with 1 Axes>"
      ]
     },
     "metadata": {},
     "output_type": "display_data"
    }
   ],
   "source": [
    "# # Plot the learning curves for Decision Tree Classifier\n",
    "plot_learning_curves(oversampled_train_features, oversampled_train_labels, reduced_x_test, y_test, dtclf)"
   ]
  },
  {
   "cell_type": "code",
   "execution_count": null,
   "metadata": {},
   "outputs": [],
   "source": []
  }
 ],
 "metadata": {
  "kernelspec": {
   "display_name": "Python 3.10.7 64-bit",
   "language": "python",
   "name": "python3"
  },
  "language_info": {
   "codemirror_mode": {
    "name": "ipython",
    "version": 3
   },
   "file_extension": ".py",
   "mimetype": "text/x-python",
   "name": "python",
   "nbconvert_exporter": "python",
   "pygments_lexer": "ipython3",
   "version": "3.10.7"
  },
  "orig_nbformat": 4,
  "vscode": {
   "interpreter": {
    "hash": "987fc3940b7e0bab1dd67750f0f8f3864bbdfcf958f512432bf842e284ff32c3"
   }
  }
 },
 "nbformat": 4,
 "nbformat_minor": 2
}
